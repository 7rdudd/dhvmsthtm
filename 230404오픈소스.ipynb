{
  "nbformat": 4,
  "nbformat_minor": 0,
  "metadata": {
    "colab": {
      "provenance": [],
      "mount_file_id": "194_VISjRoo-S32OcuIO8PCUlh77Mmpyn",
      "authorship_tag": "ABX9TyOYFXglRmr+tw6YYvusTiMY",
      "include_colab_link": true
    },
    "kernelspec": {
      "name": "python3",
      "display_name": "Python 3"
    },
    "language_info": {
      "name": "python"
    },
    "accelerator": "GPU",
    "gpuClass": "standard"
  },
  "cells": [
    {
      "cell_type": "markdown",
      "metadata": {
        "id": "view-in-github",
        "colab_type": "text"
      },
      "source": [
        "<a href=\"https://colab.research.google.com/github/7rdudd/dhvmsthtm/blob/main/230404%EC%98%A4%ED%94%88%EC%86%8C%EC%8A%A4.ipynb\" target=\"_parent\"><img src=\"https://colab.research.google.com/assets/colab-badge.svg\" alt=\"Open In Colab\"/></a>"
      ]
    },
    {
      "cell_type": "code",
      "execution_count": 7,
      "metadata": {
        "id": "1JarEqZ6w-yi"
      },
      "outputs": [],
      "source": [
        "#데이터셋\n",
        "import numpy as np\n",
        "import tensorflow as tf\n",
        "from tensorflow.keras.datasets import cifar10\n",
        "from tensorflow.keras.preprocessing.image import ImageDataGenerator\n",
        "(x_train,t_train), (x_test,t_test)=cifar10.load_data()\n",
        "batch_size=32\n",
        "epochs=20\n",
        "n_class=10\n",
        "x_train=x_train/255\n",
        "x_test=x_test/255\n",
        "t_train=tf.keras.utils.to_categorical(t_train,n_class)\n",
        "t_test=tf.keras.utils.to_categorical(t_test,n_class)"
      ]
    },
    {
      "cell_type": "code",
      "source": [
        "from keras.api._v2.keras import Sequential\n",
        "#\n",
        "from tensorflow.keras.models import Sequential\n",
        "from tensorflow.keras.layers import Dense, Dropout, Activation, Flatten\n",
        "from tensorflow.keras.layers import Conv2D,MaxPooling2D\n",
        "from tensorflow.keras.optimizers import Adam\n",
        "model=Sequential()"
      ],
      "metadata": {
        "id": "nJ5kvLLWzszB"
      },
      "execution_count": 8,
      "outputs": []
    },
    {
      "cell_type": "code",
      "source": [],
      "metadata": {
        "id": "AiM59AIH-rhz"
      },
      "execution_count": null,
      "outputs": []
    },
    {
      "cell_type": "code",
      "source": [
        "model.add(Conv2D(32,(3,3), padding=\"same\",input_shape=x_train.shape[1:]))\n",
        "model.add(Activation(\"relu\"))\n",
        "model.add(Conv2D(32,(3,3)))\n",
        "model.add(Activation(\"relu\"))\n",
        "model.add(MaxPooling2D(pool_size=(2,2)))\n",
        "model.add(Conv2D(64,(3,3),padding=\"same\"))\n",
        "model.add(Activation(\"relu\"))\n",
        "model.add(Conv2D(32,(3,3)))\n",
        "model.add(Activation(\"relu\"))\n",
        "model.add(MaxPooling2D(pool_size=(2,2)))"
      ],
      "metadata": {
        "id": "NDtNxmsf6h3D"
      },
      "execution_count": 10,
      "outputs": []
    },
    {
      "cell_type": "code",
      "source": [
        "from keras.engine.training import optimizer\n",
        "model.add(Flatten()) #1차원 배열로 변환\n",
        "model.add(Dense(256))\n",
        "model.add(Activation(\"relu\"))\n",
        "model.add(Dropout(0.5))\n",
        "model.add(Dense(n_class))\n",
        "model.add(Activation(\"softmax\"))\n",
        "model.compile(optimizer=Adam(),loss=\"categorical_crossentropy\",metrics=[\"accuracy\"])\n",
        "model.summary()"
      ],
      "metadata": {
        "colab": {
          "base_uri": "https://localhost:8080/"
        },
        "id": "rYFwoWkl83hi",
        "outputId": "e48d08f1-7a86-4aa1-a883-5be6c83faab1"
      },
      "execution_count": 12,
      "outputs": [
        {
          "output_type": "stream",
          "name": "stdout",
          "text": [
            "Model: \"sequential_1\"\n",
            "_________________________________________________________________\n",
            " Layer (type)                Output Shape              Param #   \n",
            "=================================================================\n",
            " conv2d (Conv2D)             (None, 32, 32, 32)        896       \n",
            "                                                                 \n",
            " activation (Activation)     (None, 32, 32, 32)        0         \n",
            "                                                                 \n",
            " conv2d_1 (Conv2D)           (None, 30, 30, 32)        9248      \n",
            "                                                                 \n",
            " activation_1 (Activation)   (None, 30, 30, 32)        0         \n",
            "                                                                 \n",
            " max_pooling2d (MaxPooling2D  (None, 15, 15, 32)       0         \n",
            " )                                                               \n",
            "                                                                 \n",
            " conv2d_2 (Conv2D)           (None, 15, 15, 64)        18496     \n",
            "                                                                 \n",
            " activation_2 (Activation)   (None, 15, 15, 64)        0         \n",
            "                                                                 \n",
            " conv2d_3 (Conv2D)           (None, 13, 13, 32)        18464     \n",
            "                                                                 \n",
            " activation_3 (Activation)   (None, 13, 13, 32)        0         \n",
            "                                                                 \n",
            " max_pooling2d_1 (MaxPooling  (None, 6, 6, 32)         0         \n",
            " 2D)                                                             \n",
            "                                                                 \n",
            " flatten (Flatten)           (None, 1152)              0         \n",
            "                                                                 \n",
            " dense (Dense)               (None, 256)               295168    \n",
            "                                                                 \n",
            " activation_4 (Activation)   (None, 256)               0         \n",
            "                                                                 \n",
            " dropout (Dropout)           (None, 256)               0         \n",
            "                                                                 \n",
            " dense_1 (Dense)             (None, 10)                2570      \n",
            "                                                                 \n",
            " activation_5 (Activation)   (None, 10)                0         \n",
            "                                                                 \n",
            " flatten_1 (Flatten)         (None, 10)                0         \n",
            "                                                                 \n",
            " dense_2 (Dense)             (None, 256)               2816      \n",
            "                                                                 \n",
            " activation_6 (Activation)   (None, 256)               0         \n",
            "                                                                 \n",
            " dropout_1 (Dropout)         (None, 256)               0         \n",
            "                                                                 \n",
            " dense_3 (Dense)             (None, 10)                2570      \n",
            "                                                                 \n",
            " activation_7 (Activation)   (None, 10)                0         \n",
            "                                                                 \n",
            "=================================================================\n",
            "Total params: 350,228\n",
            "Trainable params: 350,228\n",
            "Non-trainable params: 0\n",
            "_________________________________________________________________\n"
          ]
        }
      ]
    },
    {
      "cell_type": "code",
      "source": [
        "from tensorflow.keras.preprocessing.image import ImageDataGenerator\n",
        "\n",
        "generator = ImageDataGenerator(rotation_range=0.2, horizontal_flip=True)\n",
        "history=model.fit_generator(generator.flow(x_train,t_train,\n",
        "                                           batch_size=batch_size),\n",
        "                            epochs=epochs,validation_data=(x_test,\n",
        "                                                           t_test))"
      ],
      "metadata": {
        "colab": {
          "base_uri": "https://localhost:8080/"
        },
        "id": "1nt5iMzo-tYM",
        "outputId": "428fbf3b-4c57-4653-a4c8-1f3cb2d2e1c4"
      },
      "execution_count": 13,
      "outputs": [
        {
          "output_type": "stream",
          "name": "stdout",
          "text": [
            "Epoch 1/20\n"
          ]
        },
        {
          "output_type": "stream",
          "name": "stderr",
          "text": [
            "<ipython-input-13-ea6a82aa9e2f>:4: UserWarning: `Model.fit_generator` is deprecated and will be removed in a future version. Please use `Model.fit`, which supports generators.\n",
            "  history=model.fit_generator(generator.flow(x_train,t_train,\n"
          ]
        },
        {
          "output_type": "stream",
          "name": "stdout",
          "text": [
            "1563/1563 [==============================] - 46s 22ms/step - loss: 1.8512 - accuracy: 0.2804 - val_loss: 1.5096 - val_accuracy: 0.4229\n",
            "Epoch 2/20\n",
            "1563/1563 [==============================] - 33s 21ms/step - loss: 1.4248 - accuracy: 0.4693 - val_loss: 1.2152 - val_accuracy: 0.5517\n",
            "Epoch 3/20\n",
            "1563/1563 [==============================] - 34s 21ms/step - loss: 1.2095 - accuracy: 0.5672 - val_loss: 1.0705 - val_accuracy: 0.6202\n",
            "Epoch 4/20\n",
            "1563/1563 [==============================] - 33s 21ms/step - loss: 1.0882 - accuracy: 0.6142 - val_loss: 1.0092 - val_accuracy: 0.6448\n",
            "Epoch 5/20\n",
            "1563/1563 [==============================] - 34s 22ms/step - loss: 1.0091 - accuracy: 0.6482 - val_loss: 0.9141 - val_accuracy: 0.6745\n",
            "Epoch 6/20\n",
            "1563/1563 [==============================] - 34s 22ms/step - loss: 0.9452 - accuracy: 0.6707 - val_loss: 0.8831 - val_accuracy: 0.6964\n",
            "Epoch 7/20\n",
            "1563/1563 [==============================] - 33s 21ms/step - loss: 0.9096 - accuracy: 0.6850 - val_loss: 0.8546 - val_accuracy: 0.7082\n",
            "Epoch 8/20\n",
            "1563/1563 [==============================] - 33s 21ms/step - loss: 0.8742 - accuracy: 0.7008 - val_loss: 0.8358 - val_accuracy: 0.7142\n",
            "Epoch 9/20\n",
            "1563/1563 [==============================] - 32s 20ms/step - loss: 0.8448 - accuracy: 0.7108 - val_loss: 0.8135 - val_accuracy: 0.7235\n",
            "Epoch 10/20\n",
            "1563/1563 [==============================] - 33s 21ms/step - loss: 0.8052 - accuracy: 0.7264 - val_loss: 0.8561 - val_accuracy: 0.7111\n",
            "Epoch 11/20\n",
            "1563/1563 [==============================] - 32s 20ms/step - loss: 0.7879 - accuracy: 0.7290 - val_loss: 0.8300 - val_accuracy: 0.7188\n",
            "Epoch 12/20\n",
            "1563/1563 [==============================] - 33s 21ms/step - loss: 0.7665 - accuracy: 0.7382 - val_loss: 0.7875 - val_accuracy: 0.7384\n",
            "Epoch 13/20\n",
            "1563/1563 [==============================] - 32s 20ms/step - loss: 0.7446 - accuracy: 0.7473 - val_loss: 0.7926 - val_accuracy: 0.7308\n",
            "Epoch 14/20\n",
            "1563/1563 [==============================] - 33s 21ms/step - loss: 0.7240 - accuracy: 0.7548 - val_loss: 0.7970 - val_accuracy: 0.7295\n",
            "Epoch 15/20\n",
            "1563/1563 [==============================] - 32s 20ms/step - loss: 0.7145 - accuracy: 0.7575 - val_loss: 0.7947 - val_accuracy: 0.7321\n",
            "Epoch 16/20\n",
            "1563/1563 [==============================] - 32s 20ms/step - loss: 0.7016 - accuracy: 0.7637 - val_loss: 0.7476 - val_accuracy: 0.7479\n",
            "Epoch 17/20\n",
            "1563/1563 [==============================] - 34s 21ms/step - loss: 0.6912 - accuracy: 0.7664 - val_loss: 0.7375 - val_accuracy: 0.7501\n",
            "Epoch 18/20\n",
            "1563/1563 [==============================] - 32s 20ms/step - loss: 0.6732 - accuracy: 0.7722 - val_loss: 0.8000 - val_accuracy: 0.7384\n",
            "Epoch 19/20\n",
            "1563/1563 [==============================] - 33s 21ms/step - loss: 0.6686 - accuracy: 0.7749 - val_loss: 0.7461 - val_accuracy: 0.7468\n",
            "Epoch 20/20\n",
            "1563/1563 [==============================] - 32s 21ms/step - loss: 0.6574 - accuracy: 0.7797 - val_loss: 0.7901 - val_accuracy: 0.7353\n"
          ]
        }
      ]
    },
    {
      "cell_type": "code",
      "source": [
        "import matplotlib.pyplot as plt #결과\n",
        "train_loss=history.history['loss']\n",
        "train_acc=history.history['accuracy']\n",
        "val_loss=history.history['val_loss']\n",
        "val_acc=history.history['val_accuracy']\n",
        "plt.plot(np.arange(len(train_loss)), train_loss, label='loss')\n",
        "plt.plot(np.arange(len(val_loss)), val_loss, label='val_loss')\n",
        "plt.legend()\n",
        "plt.show()\n",
        "plt.plot(np.arange(len(train_acc)), train_acc, label='acc')\n",
        "plt.plot(np.arange(len(val_acc)), val_acc, label='val_acc')\n",
        "plt.legend()\n",
        "plt.show()"
      ],
      "metadata": {
        "colab": {
          "base_uri": "https://localhost:8080/",
          "height": 845
        },
        "id": "22wlB0NkFg1h",
        "outputId": "1e4ccd3c-640c-41a5-f0ee-9c6540c04bac"
      },
      "execution_count": 14,
      "outputs": [
        {
          "output_type": "display_data",
          "data": {
            "text/plain": [
              "<Figure size 640x480 with 1 Axes>"
            ],
            "image/png": "[encoded data removed]"
          },
          "metadata": {}
        },
        {
          "output_type": "display_data",
          "data": {
            "text/plain": [
              "<Figure size 640x480 with 1 Axes>"
            ],
            "image/png": "[encoded data removed]"
          },
          "metadata": {}
        }
      ]
    },
    {
      "cell_type": "code",
      "source": [
        "loss, accuracy=model.evaluate(x_test,t_test)\n",
        "print(\"오차:\",loss,\"정밀도:\",accuracy)"
      ],
      "metadata": {
        "colab": {
          "base_uri": "https://localhost:8080/"
        },
        "id": "044tRzRsGn0E",
        "outputId": "6ee5d983-10a6-48a3-97f3-cbf73e5bf42b"
      },
      "execution_count": 15,
      "outputs": [
        {
          "output_type": "stream",
          "name": "stdout",
          "text": [
            "313/313 [==============================] - 1s 4ms/step - loss: 0.7901 - accuracy: 0.7353\n",
            "오차: 0.7900668978691101 정밀도: 0.7353000044822693\n"
          ]
        }
      ]
    },
    {
      "cell_type": "code",
      "source": [
        "from google.colab import drive\n",
        "drive.mount(\"/content/drive/\")"
      ],
      "metadata": {
        "colab": {
          "base_uri": "https://localhost:8080/"
        },
        "id": "9r54UYE0G3uC",
        "outputId": "087bafed-35b9-42cd-c569-8634a7a37358"
      },
      "execution_count": 16,
      "outputs": [
        {
          "output_type": "stream",
          "name": "stdout",
          "text": [
            "Mounted at /content/drive/\n"
          ]
        }
      ]
    },
    {
      "cell_type": "code",
      "source": [
        "import os\n",
        "from keras.models import load_model\n",
        "path=\"/content/drive/MyDrive/cnn_cifar10/\" #폴더 만들기\n",
        "#디렉터리 작성성\n",
        "if not os.path.exists(path):\n",
        "  os.makedirs(path)\n",
        "#파일 저장\n",
        "model.save(path+\"model_cnn_cifar10.h5\")"
      ],
      "metadata": {
        "id": "hoxP6I-jJsnI"
      },
      "execution_count": 17,
      "outputs": []
    },
    {
      "cell_type": "code",
      "source": [],
      "metadata": {
        "id": "WdLO1nqMKYzZ"
      },
      "execution_count": null,
      "outputs": []
    }
  ]
}