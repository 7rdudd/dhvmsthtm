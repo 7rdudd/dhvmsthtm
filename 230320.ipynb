{
  "nbformat": 4,
  "nbformat_minor": 0,
  "metadata": {
    "colab": {
      "provenance": [],
      "authorship_tag": "ABX9TyP6zvVabyBbvRZS2pff98e/",
      "include_colab_link": true
    },
    "kernelspec": {
      "name": "python3",
      "display_name": "Python 3"
    },
    "language_info": {
      "name": "python"
    }
  },
  "cells": [
    {
      "cell_type": "markdown",
      "metadata": {
        "id": "view-in-github",
        "colab_type": "text"
      },
      "source": [
        "<a href=\"https://colab.research.google.com/github/7rdudd/dhvmsthtm/blob/main/230320.ipynb\" target=\"_parent\"><img src=\"https://colab.research.google.com/assets/colab-badge.svg\" alt=\"Open In Colab\"/></a>"
      ]
    },
    {
      "cell_type": "code",
      "execution_count": null,
      "metadata": {
        "id": "V5NuiNpaK9Qg"
      },
      "outputs": [],
      "source": [
        "a=4+7\n",
        "x\n",
        "b=6+2\n",
        "y\n",
        "print(a,b)\n"
      ]
    },
    {
      "cell_type": "markdown",
      "source": [
        "덧셈 내가 하기 싫어\n",
        "함수 하나 만듦\n"
      ],
      "metadata": {
        "id": "UPngEe_3NNbw"
      }
    },
    {
      "cell_type": "markdown",
      "source": [
        "두 수를 입력 받아서 더해서 리턴?"
      ],
      "metadata": {
        "id": "6C7Lvaq4Nh1b"
      }
    },
    {
      "cell_type": "code",
      "source": [
        "def sum(p,q):\n",
        "  c=p+q\n",
        "  return c #return\n",
        "a=sum(4,7)\n",
        "b=sum(6,2)\n",
        "print(a,b)"
      ],
      "metadata": {
        "id": "3ZYMb_dvNcz2"
      },
      "execution_count": null,
      "outputs": []
    },
    {
      "cell_type": "markdown",
      "source": [
        "두 수를 입력 받아서 몫과 나머지를 리턴"
      ],
      "metadata": {
        "id": "HLaSFVW6QZTl"
      }
    },
    {
      "cell_type": "code",
      "source": [
        "def x(p,q): #함수호출\n",
        "  r1=p//q\n",
        "  r2=p%q\n",
        "  return r1, r2\n",
        "\n",
        "a=x(10,3)\n",
        "\n",
        "print(a)"
      ],
      "metadata": {
        "colab": {
          "base_uri": "https://localhost:8080/"
        },
        "id": "-7i_aRmjQeHq",
        "outputId": "c921667e-e66f-494d-ba33-35f91c4e3e69"
      },
      "execution_count": null,
      "outputs": [
        {
          "output_type": "stream",
          "name": "stdout",
          "text": [
            "(3, 1)\n"
          ]
        }
      ]
    },
    {
      "cell_type": "markdown",
      "source": [],
      "metadata": {
        "id": "UXGPJfc7TVLF"
      }
    },
    {
      "cell_type": "code",
      "source": [
        "def f3(a):\n",
        "  s=0\n",
        "  for i in range(len(a)):\n",
        "    s+=a[i]\n",
        "   #return s 여기에 쓰면 오류\n",
        "  return s\n",
        "\n",
        "a=f3([4,2,6])\n",
        "print(a)"
      ],
      "metadata": {
        "colab": {
          "base_uri": "https://localhost:8080/"
        },
        "id": "gjXZp4wOTf_4",
        "outputId": "4dbc1648-5c04-485f-bc53-4a0d5049432d"
      },
      "execution_count": null,
      "outputs": [
        {
          "output_type": "stream",
          "name": "stdout",
          "text": [
            "12\n"
          ]
        }
      ]
    }
  ]
}