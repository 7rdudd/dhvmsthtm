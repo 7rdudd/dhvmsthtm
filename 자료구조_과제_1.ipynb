{
  "nbformat": 4,
  "nbformat_minor": 0,
  "metadata": {
    "colab": {
      "provenance": [],
      "authorship_tag": "ABX9TyM9KypNXRbeJG0PvgOLm0ZU",
      "include_colab_link": true
    },
    "kernelspec": {
      "name": "python3",
      "display_name": "Python 3"
    },
    "language_info": {
      "name": "python"
    }
  },
  "cells": [
    {
      "cell_type": "markdown",
      "metadata": {
        "id": "view-in-github",
        "colab_type": "text"
      },
      "source": [
        "<a href=\"https://colab.research.google.com/github/7rdudd/dhvmsthtm/blob/main/%EC%9E%90%EB%A3%8C%EA%B5%AC%EC%A1%B0_%EA%B3%BC%EC%A0%9C_1.ipynb\" target=\"_parent\"><img src=\"https://colab.research.google.com/assets/colab-badge.svg\" alt=\"Open In Colab\"/></a>"
      ]
    },
    {
      "cell_type": "markdown",
      "source": [
        "(조건문 프로그래밍 문제)\n",
        "1. 정수 하나를 입력받아 그 수가 짝수인지, 홀수인지를 판별하는 프로그램을 작성하시오.\n",
        "2.  두 정수 a, b를 입력받아 더 큰 수를 구하여 출력하는 프로그램을 작성하시오.\n",
        "3. 임의의 두 정수를 입력받아 큰수에서 작은 수를 뺀 결과와 나눈 결과를 출력하는 프로그램을 작성하시오.\n",
        "4. 임의의 정수 a를 입력받아 1~10 범위의 수이면 “OK\"를, 그렇지 않으면 ”NOK\"를 출력하시오.\n",
        "5. 임의의 정수 a를 입력받아 1이하이거나 10 이상의 수이면 “OK\"를, 그렇지 않으면 ”NOK\"를 출력.\n",
        "6. 입력된 실수가 [1~10) 사이이면 입력값의 2배 값을 출력하고, 그렇지 않으면 3배 값을 출력하는 프로그램을 작성하시오. \n",
        "7. 임의의 문자를 입력받아 그 문자가 대문자인지 아닌지를 판별하는 프로그램을 작성하시오. \n",
        "8. 임의의 문자 ch를 입력받아 그 문자가 'y' 또는 'Y' 또는 개행문자(‘\\n')이면 “OK\"를, 그렇지 않으면 ”NOK\"를 출력하시오.\n",
        "9. 임의의 문자를 입력받아 대문자인지, 소문자인지, 기타의 문자인지를 판별하는 프로그램을 작성하시오.\n",
        "10. 임의의 정수 a를 입력받아 [1..10] 범위의 수가 아니면 “ERROR\"를 출력하고, 1~10 범위의 수이지만 3의 배수가 아니면 “OK\"를, 그렇지 않으면 ”NOK\"를 출력하시오.\n",
        "(반복문 프로그래밍 문제)\n",
        "11. 임의의 양의 정수 n을 입력받아 1에서 n까지의 합을 구하시오.\n",
        "12. 임의의 양의 정수 n을 입력받아 n!을 구하시오.\n",
        "13. 두 정수 a, b를 입력받아 [a, b] 사이의 홀수의 개수와 합을 구하는 프로그램을 작성하시오.\n",
        "14. 100 이하의 자연수중 3의 배수이거나 5의 배수이면서 15의 배수가 아닌 수들의 합을 구하시오.\n",
        "15. 100 이하의 임의의 양의 정수 n을 입력받아 1~100 사이에서 n의 배수와 n의 배수의 개수를 출력하시오.\n",
        "예> 양의 정수를 입력하시오 : 15\n",
        "    15의 배수 : 15, 30, 45, 60, 75, 90\n",
        "    15의 배수의 개수 : 6\n",
        "16. 1+2-3+4+5-6+7+8-9+...-99+100=?\n",
        "17. 1+(1+2)+(1+2+3)+...+(1+2+3+...+100)=?\n",
        "18. 5명의 학생에 대한 번호, 중간 기말 점수를 정수 값으로 입력받아 총점, 평균(소수 둘째자리까지), 학점을 구하여 출력하시오. 평균이 같은 학생은 없다고 가정.\n",
        "19. 하나의 점수를 입력받아 출력하시오. 단, 입력된 점수가 [0,100] 범위를 벗어나면 재입력 받으시오.\n",
        "20. 임의의 정수를 하나 입력받아 그 수가 소수인지를 판별하는 프로그램을 작성하시오. 소수란 1과 자기 자신 이외에는 나누어지지 않는 수를 말한다."
      ],
      "metadata": {
        "id": "ugPbgyFv7bZp"
      }
    },
    {
      "cell_type": "code",
      "execution_count": null,
      "metadata": {
        "id": "FOWjhePl5klX"
      },
      "outputs": [],
      "source": [
        "#1\n",
        "x=int(input(\"정수를 입력하시오:\"))\n",
        "if x%2==0:\n",
        "  print(\"짝수\")\n",
        "else:\n",
        "  print(\"홀수\")\n",
        "\n",
        "#2\n",
        "a,b=map(int,input(\"두 정수를 입력하시오:\").split())\n",
        "if a>b:\n",
        "  print(a)\n",
        "elif a<b:\n",
        "  print(b)\n",
        "else:\n",
        "  print(\"두 정수는 같습니다.\")\n",
        "\n",
        "#3\n",
        "a,b=map(int,input(\"두 정수를 입력하시오:\").split())\n",
        "if a>b:\n",
        "  print(\"뺀 결과\",a-b,\"나눈 결과\",a/b)\n",
        "elif a<b:\n",
        "  print(\"뺀 결과\",b-a,\"나눈 결과\",b/a)\n",
        "else:\n",
        "  print(\"두 정수가 똑같습니다.\")\n",
        "\n",
        "#4\n",
        "a=int(input(\"정수를 입력하시오:\"))\n",
        "if 1<=a<=10:\n",
        "  print(\"OK\")\n",
        "else:\n",
        "  print(\"NOK\")\n",
        "\n",
        "#5\n",
        "a=int(input(\"정수를 입력하시오:\"))\n",
        "if a<=1 or a>=10:\n",
        "  print(\"OK\")\n",
        "else:\n",
        "  print(\"NOK\")\n",
        "\n",
        "\n",
        "#6\n",
        "a=float(input(\"정수를 입력하시오:\"))\n",
        "if 1<=a<10:\n",
        "  print(2*a)\n",
        "else:\n",
        "  print(3*a)\n",
        "\n",
        "#7\n",
        "a=str(input(\"임의의 문자를 입력하시오:\"))\n",
        "if a in \"qwertyuiopasdfghjklzxcvbnm\":\n",
        "  print(\"소문자\")\n",
        "else:\n",
        "  print(\"대문자\")\n",
        "\n",
        "#8\n",
        "ch=input(\"임의의 문자를 입력하시오:\")\n",
        "if  ch==\"y\" or ch==\"Y\" or ch==\"\":\n",
        "  print(\"ok\")\n",
        "else:\n",
        "  print(\"nok\")\n",
        "\n",
        "#9\n",
        "ch=input(\"임의의 문자를 입력하시오:\")\n",
        "if \"a\"<=ch<=\"z\":\n",
        "  print(\"소문자\")\n",
        "elif \"A\"<=ch<=\"Z\":\n",
        "  print(\"대문자\")\n",
        "else:\n",
        "  print(\"기타문자\")\n",
        "\n",
        "#10\n",
        "a=int(input(\"임의의 숫자를 입력하시오:\"))\n",
        "if not (1<=a<=10):\n",
        "  print(\"ERROR\")\n",
        "elif (1<=a<=10):\n",
        "  if (not a%3==0):\n",
        "    print(\"ok\")\n",
        "  else:\n",
        "    print(\"nok\")\n",
        "\n",
        "#11\n",
        "x=int(input(\"임의의 양의 정수를 입력하시오:\"))\n",
        "sum=0\n",
        "for i in range(1,x+1):\n",
        "  sum+=i\n",
        "print(\"1부터\",x,\"까지의 합은\",sum,\"입니다.\")\n",
        "\n",
        "#12\n",
        "x=int(input(\"임의의 양의 정수를 입력하시오:\"))\n",
        "fact=1\n",
        "for a in range(1,x+1):\n",
        "  fact=fact*a\n",
        "print(x,\"!은\",fact,\"이다.\")\n",
        "\n",
        "#13\n",
        "a,b=map(int,input(\"정수를 입력하시오:\").split())\n",
        "s=0\n",
        "t=0\n",
        "for i in range(a,b+1):\n",
        "  if (i%2==1):\n",
        "    s=s+i\n",
        "    t=t+1\n",
        "print(\"홀수의 개수는\", t,\"개이고\",\"홀수의 합은\", s,\"이다\")\n",
        "\n",
        "#14\n",
        "s=0\n",
        "for i in range(1,101,1):\n",
        "  if (i%3==0 or i%5==0) and (not i%15==0):\n",
        "    s=s+i\n",
        "print(\"3의 배수거나 5의 배수이면서 15의 배수가 아닌 수들의 합은\",s,\"입니다.\")\n",
        "\n",
        "#15\n",
        "x=int(input(\"양의 정수를 입력하시오: \"))\n",
        "x>=0\n",
        "t=0\n",
        "print(x,\"의 배수:\",end=\"\")\n",
        "for i in range(0,101,x):\n",
        "    if i%x==0:\n",
        "      t=t+1\n",
        "    print(i,end=\" \")\n",
        "print()\n",
        "print(x,\"의 배수의 개수:\",t,\"개\")\n",
        "\n",
        "#16\n",
        "sum=0\n",
        "for i in range(1,101,1): #1부터 100까지 sum에 더함\n",
        "  sum+=i\n",
        "for i in range(0, 101, 3): #3의 배수를 제외\n",
        "  sum=sum-i\n",
        "for i in range(0, 101, 3): #3의 배수를 뺌\n",
        "  sum=sum-i\n",
        "print(\"1+2-3+4+5-6+7+8-9+...-99+100=\",sum,\"입니다.\")\n",
        "\n",
        "#17\n",
        "sum=0\n",
        "s=0\n",
        "for i in range(1,101,1):\n",
        "  sum=sum+i\n",
        "  s=sum+s\n",
        "print(\"1+(1+2)+(1+2+3)+...+(1+2+3+...+100)=\",s,\"입니다.\")\n",
        "\n",
        "#18\n",
        "for i in range(5):\n",
        "  a,b,c=map(int,input(\"번호, 중간 점수, 기말 점수를 입력하시오:\").split())\n",
        "  score=(b+c)\n",
        "  mean=(b+c)/2\n",
        "  if 90<=mean<=100:\n",
        "    print(a,\"번 학생 총점은\",score,\"평균점수는\",mean, \"이고 A학점 입니다.\")\n",
        "  elif 80<=mean<90:\n",
        "    print(a,\"번 학생 총점은\",score,\"평균점수는\",mean, \"이고 B학점 입니다.\")\n",
        "  elif 60<=mean<80:\n",
        "    print(a,\"번 학생 총점은\",score,\"평균점수는\",mean, \"이고 C학점 입니다.\")\n",
        "  elif 0<=mean<60:\n",
        "    print(a,\"번 학생 총점은\",score,\"평균점수는\",mean, \"이고 F학점 입니다.\")\n",
        "\n",
        "#18_1\n",
        "for i in range(5):\n",
        "  a,b,c=map(float,input(\"번호, 중간 점수, 기말 점수를 입력하시오:\").split())\n",
        "  score=(b+c)\n",
        "  x=(b+c)/2\n",
        "  mean=round(x,2)\n",
        "  if 90<=mean<=100:\n",
        "    print(a,\"번 학생 총점은\",score,\"평균점수는\",mean, \"이고 A학점 입니다.\")\n",
        "  elif 80<=mean<90:\n",
        "    print(a,\"번 학생 총점은\",score,\"평균점수는\",mean, \"이고 B학점 입니다.\")\n",
        "  elif 60<=mean<80:\n",
        "    print(a,\"번 학생 총점은\",score,\"평균점수는\",mean, \"이고 C학점 입니다.\")\n",
        "  elif 0<=mean<60:\n",
        "    print(a,\"번 학생 총점은\",score,\"평균점수는\",mean, \"이고 F학점 입니다.\")\n",
        "\n",
        "#19\n",
        "for i in range(100000000):\n",
        "  i=int(input(\"정수를 입력하시오:\"))\n",
        "  if 1<=i<=100:\n",
        "    print(i)\n",
        "    break\n",
        "  else:\n",
        "    print(\"다시 입력하시오.\")\n",
        "\n",
        "#20\n",
        "c=0\n",
        "n=int(input(\"입력하시오:\"))\n",
        "for i in range(2,n):\n",
        "  if n%i==0:\n",
        "    c=c+1\n",
        "    break\n",
        "if c==0:\n",
        "  print(\"소수입니다.\")\n",
        "else:\n",
        "  print(\"소수가 아닙니다.\")"
      ]
    },
    {
      "cell_type": "code",
      "source": [
        "#3\n",
        "a,b=map(int,input(\"두 정수를 입력하시오:\").split())\n",
        "if a>b:\n",
        "  print(\"뺀 결과\",a-b,\"나눈 결과\",a/b)\n",
        "elif a<b:\n",
        "  print(\"뺀 결과\",b-a,\"나눈 결과\",b/a)\n",
        "else:\n",
        "  print(\"계산 할 수 없습니다.\")"
      ],
      "metadata": {
        "colab": {
          "base_uri": "https://localhost:8080/"
        },
        "id": "2m4ONXxNw8Lg",
        "outputId": "6d506222-b200-42a8-9d15-7697ec997b6b"
      },
      "execution_count": null,
      "outputs": [
        {
          "output_type": "stream",
          "name": "stdout",
          "text": [
            "두 정수를 입력하시오:5 3\n",
            "2 1.6666666666666667\n"
          ]
        }
      ]
    },
    {
      "cell_type": "code",
      "source": [
        "#16\n",
        "sum=0\n",
        "for i in range(1,101,1):\n",
        "  sum+=i\n",
        "for i in range(0, 101, 3):\n",
        "  sum=sum-i\n",
        "for i in range(0, 101, 3):\n",
        "  sum=sum-i\n",
        "print(\"1+2-3+4+5-6+7+8-9+...-99+100=\",sum,\"입니다.\")"
      ],
      "metadata": {
        "colab": {
          "base_uri": "https://localhost:8080/"
        },
        "id": "Qzwua2R2wAcY",
        "outputId": "750465b8-b529-47f3-ffaa-95110ce2c9a8"
      },
      "execution_count": null,
      "outputs": [
        {
          "output_type": "stream",
          "name": "stdout",
          "text": [
            "1+2-3+4+5-6+7+8-9+...-99+100= 1684 입니다.\n"
          ]
        }
      ]
    },
    {
      "cell_type": "code",
      "source": [
        "\n",
        "#20\n",
        "n=int(input(\"입력하시오:\"))\n",
        "for i in range(1):\n",
        "  if n%1==0 and n%n==0:\n",
        "    print(\"소수입니다.\")\n",
        "  else:\n",
        "    print(\"소수가 아닙니다.\")"
      ],
      "metadata": {
        "id": "K3l5xU_TGTpf"
      },
      "execution_count": null,
      "outputs": []
    },
    {
      "cell_type": "code",
      "source": [],
      "metadata": {
        "id": "e6capCJiHLHW"
      },
      "execution_count": null,
      "outputs": []
    },
    {
      "cell_type": "code",
      "source": [
        "\n",
        "sum=0\n",
        "for i in range(1,101,1):\n",
        "  sum+=i\n",
        "for i in range(0, 101, 3):\n",
        "  sum=sum-i\n",
        "for i in range(0, 101, 3):\n",
        "  sum=sum-i\n",
        "print(\"1+2-3+4+5-6+7+8-9+...-99+100=\",sum,\"입니다.\")"
      ],
      "metadata": {
        "colab": {
          "base_uri": "https://localhost:8080/"
        },
        "id": "JUN88BmV_CvB",
        "outputId": "f5c24453-4add-4779-d84b-0cfa6e77e716"
      },
      "execution_count": null,
      "outputs": [
        {
          "output_type": "stream",
          "name": "stdout",
          "text": [
            "1+2-3+4+5-6+7+8-9+...-99+100= 1684 입니다.\n"
          ]
        }
      ]
    },
    {
      "cell_type": "code",
      "source": [
        "#19\n",
        "for i in range(100000000):\n",
        "  i=int(input(\"정수를 입력하시오:\"))\n",
        "  if 1<=i<=100:\n",
        "    print(i)\n",
        "    break\n",
        "  else:\n",
        "    print(\"다시 입력하시오.\")"
      ],
      "metadata": {
        "colab": {
          "base_uri": "https://localhost:8080/"
        },
        "id": "Rdc4PtZJ-KsV",
        "outputId": "8511b3ba-6d07-4907-eee1-df804aac5f4b"
      },
      "execution_count": null,
      "outputs": [
        {
          "output_type": "stream",
          "name": "stdout",
          "text": [
            "정수를 입력하시오:100\n",
            "100\n"
          ]
        }
      ]
    },
    {
      "cell_type": "markdown",
      "source": [
        "여기서부터 교수님 피드백 코드"
      ],
      "metadata": {
        "id": "ynJvgj301WQN"
      }
    },
    {
      "cell_type": "code",
      "source": [
        "#1\n",
        "x=int(input(\"정수를 입력하시오:\"))\n",
        "if x%2==0:\n",
        "  r=\"짝수\"\n",
        "else:\n",
        "  r=\"홀수\"\n",
        "print(r)"
      ],
      "metadata": {
        "colab": {
          "base_uri": "https://localhost:8080/"
        },
        "id": "Bw0voc281FrU",
        "outputId": "74981382-2479-4655-e260-1c6d1f1b8cb9"
      },
      "execution_count": null,
      "outputs": [
        {
          "output_type": "stream",
          "name": "stdout",
          "text": [
            "정수를 입력하시오:5\n",
            "홀수\n"
          ]
        }
      ]
    },
    {
      "cell_type": "code",
      "source": [
        "#7\n",
        "a=input(\"임의의 문자를 입력하시오:\") #input일 때 str인데 다시 한 번 문자열로 바꿔줄 필요가 없음.\n",
        "if a in \"qwertyuiopasdfghjklzxcvbnm\":\n",
        "  print(\"소문자\")\n",
        "else:\n",
        "  print(\"대문자\")"
      ],
      "metadata": {
        "colab": {
          "base_uri": "https://localhost:8080/"
        },
        "id": "qanYvtZV1ytg",
        "outputId": "0dc95e47-65a7-4bb9-fffa-154b37043dd5"
      },
      "execution_count": null,
      "outputs": [
        {
          "output_type": "stream",
          "name": "stdout",
          "text": [
            "임의의 문자를 입력하시오:d\n",
            "소문자\n"
          ]
        }
      ]
    },
    {
      "cell_type": "code",
      "source": [
        "#12\n",
        "x=int(input(\"임의의 양의 정수를 입력하시오:\"))\n",
        "fact=1\n",
        "for a in range(1,x+1):\n",
        "  fact*=a\n",
        "print(x,\"!은\",fact,\"이다.\")"
      ],
      "metadata": {
        "colab": {
          "base_uri": "https://localhost:8080/"
        },
        "id": "CcG1th294UvU",
        "outputId": "393d4409-c0a8-4b35-db54-ab6fc86374d3"
      },
      "execution_count": null,
      "outputs": [
        {
          "output_type": "stream",
          "name": "stdout",
          "text": [
            "임의의 양의 정수를 입력하시오:5\n",
            "5 !은 120 이다.\n"
          ]
        }
      ]
    },
    {
      "cell_type": "code",
      "source": [
        "#14\n",
        "s=0\n",
        "for i in range(1,101): #디폴드 값이 1이기 때문에 (1,101,1)이라고 표현할 필요 없음\n",
        "  if (i%3==0 or i%5==0) and (not i%15==0):\n",
        "    s=s+i\n",
        "print(\"3의 배수거나 5의 배수이면서 15의 배수가 아닌 수들의 합은\",s,\"입니다.\")"
      ],
      "metadata": {
        "id": "2RnW4N3_2yVc"
      },
      "execution_count": null,
      "outputs": []
    },
    {
      "cell_type": "markdown",
      "source": [],
      "metadata": {
        "id": "2qkH3T36zstw"
      }
    },
    {
      "cell_type": "code",
      "source": [
        "#16\n",
        "sum=0\n",
        "for i in range(1,16,1):\n",
        "  sum+=i\n",
        "for i in range(1, 16, 3):\n",
        "  sum=sum-i\n",
        "for i in range(1, 16, 3):\n",
        "  sum=sum-i\n",
        "print(\"1+2-3+4+5-6+7+8-9+...-99+100=\",sum,\"입니다.\")"
      ],
      "metadata": {
        "colab": {
          "base_uri": "https://localhost:8080/"
        },
        "id": "wA_99xDFztBa",
        "outputId": "ec29c015-9ff3-415d-fef7-6b564c46bb5a"
      },
      "execution_count": null,
      "outputs": [
        {
          "output_type": "stream",
          "name": "stdout",
          "text": [
            "1+2-3+4+5-6+7+8-9+...-99+100= 50 입니다.\n"
          ]
        }
      ]
    },
    {
      "cell_type": "code",
      "source": [
        "#16\n",
        "sum=0\n",
        "for i in range(1,101,1):\n",
        "  sum+=i\n",
        "for i in range(1, 101, 3):\n",
        "  sum=sum-i\n",
        "for i in range(1, 101, 3):\n",
        "  sum=sum-i\n",
        "print(\"1+2-3+4+5-6+7+8-9+...-99+100=\",sum,\"입니다.\")"
      ],
      "metadata": {
        "id": "9f_wvNiFR6Im",
        "outputId": "0ffab035-cd81-489a-aaa1-8490df0cb85e",
        "colab": {
          "base_uri": "https://localhost:8080/"
        }
      },
      "execution_count": null,
      "outputs": [
        {
          "output_type": "stream",
          "name": "stdout",
          "text": [
            "1+2-3+4+5-6+7+8-9+...-99+100= 1616 입니다.\n"
          ]
        }
      ]
    },
    {
      "cell_type": "code",
      "source": [
        "for i in range(5):\n",
        "  a,b,c=map(float,input(\"번호, 중간 점수, 기말 점수를 입력하시오:\").split())\n",
        "  score=(b+c)\n",
        "  x=(b+c)/2\n",
        "  mean=round(x,2)\n",
        "  if 90<=mean<=100:\n",
        "    print(a,\"번 학생 총점은\",score,\"평균점수는\",mean, \"이고 A학점 입니다.\")\n",
        "  elif 80<=mean<90:\n",
        "    print(a,\"번 학생 총점은\",score,\"평균점수는\",mean, \"이고 B학점 입니다.\")\n",
        "  elif 60<=mean<80:\n",
        "    print(a,\"번 학생 총점은\",score,\"평균점수는\",mean, \"이고 C학점 입니다.\")\n",
        "  elif 0<=mean<60:\n",
        "    print(a,\"번 학생 총점은\",score,\"평균점수는\",mean, \"이고 F학점 입니다.\")"
      ],
      "metadata": {
        "id": "AthlTjZoIYpH"
      },
      "execution_count": null,
      "outputs": []
    },
    {
      "cell_type": "code",
      "source": [
        "for i in range(5):\n",
        "  a,b,c=map(float,input(\"번호, 중간 점수, 기말 점수를 입력하시오:\").split())\n",
        "  score=(b+c)\n",
        "  mean=(b+c)/2\n",
        "  if 90<=mean<=100:\n",
        "    print(a,\"번 학생 총점은\",score,\"평균점수는\",round(mean,2), \"이고 A학점 입니다.\")\n",
        "  elif 80<=mean<90:\n",
        "    print(a,\"번 학생 총점은\",score,\"평균점수는\",round(mean,2), \"이고 B학점 입니다.\")\n",
        "  elif 60<=mean<80:\n",
        "    print(a,\"번 학생 총점은\",score,\"평균점수는\",round(mean,2), \"이고 C학점 입니다.\")\n",
        "  elif 0<=mean<60:\n",
        "    print(a,\"번 학생 총점은\",score,\"평균점수는\",round(mean,2), \"이고 F학점 입니다.\")"
      ],
      "metadata": {
        "colab": {
          "base_uri": "https://localhost:8080/",
          "height": 479
        },
        "id": "nRIeociRCtrK",
        "outputId": "c2663310-90ac-4123-f204-7df9f457a28f"
      },
      "execution_count": null,
      "outputs": [
        {
          "output_type": "stream",
          "name": "stdout",
          "text": [
            "번호, 중간 점수, 기말 점수를 입력하시오:1 90 95\n",
            "1.0 번 학생 총점은 185.0 평균점수는 92.5 이고 A학점 입니다.\n",
            "번호, 중간 점수, 기말 점수를 입력하시오:2 85.412 65.145\n",
            "2.0 번 학생 총점은 150.55700000000002 평균점수는 75.28 이고 C학점 입니다.\n"
          ]
        },
        {
          "output_type": "error",
          "ename": "KeyboardInterrupt",
          "evalue": "ignored",
          "traceback": [
            "\u001b[0;31m---------------------------------------------------------------------------\u001b[0m",
            "\u001b[0;31mKeyboardInterrupt\u001b[0m                         Traceback (most recent call last)",
            "\u001b[0;32m<ipython-input-29-5577b546cb84>\u001b[0m in \u001b[0;36m<module>\u001b[0;34m\u001b[0m\n\u001b[1;32m      1\u001b[0m \u001b[0;32mfor\u001b[0m \u001b[0mi\u001b[0m \u001b[0;32min\u001b[0m \u001b[0mrange\u001b[0m\u001b[0;34m(\u001b[0m\u001b[0;36m5\u001b[0m\u001b[0;34m)\u001b[0m\u001b[0;34m:\u001b[0m\u001b[0;34m\u001b[0m\u001b[0;34m\u001b[0m\u001b[0m\n\u001b[0;32m----> 2\u001b[0;31m   \u001b[0ma\u001b[0m\u001b[0;34m,\u001b[0m\u001b[0mb\u001b[0m\u001b[0;34m,\u001b[0m\u001b[0mc\u001b[0m\u001b[0;34m=\u001b[0m\u001b[0mmap\u001b[0m\u001b[0;34m(\u001b[0m\u001b[0mfloat\u001b[0m\u001b[0;34m,\u001b[0m\u001b[0minput\u001b[0m\u001b[0;34m(\u001b[0m\u001b[0;34m\"번호, 중간 점수, 기말 점수를 입력하시오:\"\u001b[0m\u001b[0;34m)\u001b[0m\u001b[0;34m.\u001b[0m\u001b[0msplit\u001b[0m\u001b[0;34m(\u001b[0m\u001b[0;34m)\u001b[0m\u001b[0;34m)\u001b[0m\u001b[0;34m\u001b[0m\u001b[0;34m\u001b[0m\u001b[0m\n\u001b[0m\u001b[1;32m      3\u001b[0m   \u001b[0mscore\u001b[0m\u001b[0;34m=\u001b[0m\u001b[0;34m(\u001b[0m\u001b[0mb\u001b[0m\u001b[0;34m+\u001b[0m\u001b[0mc\u001b[0m\u001b[0;34m)\u001b[0m\u001b[0;34m\u001b[0m\u001b[0;34m\u001b[0m\u001b[0m\n\u001b[1;32m      4\u001b[0m   \u001b[0mmean\u001b[0m\u001b[0;34m=\u001b[0m\u001b[0;34m(\u001b[0m\u001b[0mb\u001b[0m\u001b[0;34m+\u001b[0m\u001b[0mc\u001b[0m\u001b[0;34m)\u001b[0m\u001b[0;34m/\u001b[0m\u001b[0;36m2\u001b[0m\u001b[0;34m\u001b[0m\u001b[0;34m\u001b[0m\u001b[0m\n\u001b[1;32m      5\u001b[0m   \u001b[0;32mif\u001b[0m \u001b[0;36m90\u001b[0m\u001b[0;34m<=\u001b[0m\u001b[0mmean\u001b[0m\u001b[0;34m<=\u001b[0m\u001b[0;36m100\u001b[0m\u001b[0;34m:\u001b[0m\u001b[0;34m\u001b[0m\u001b[0;34m\u001b[0m\u001b[0m\n",
            "\u001b[0;32m/usr/local/lib/python3.8/dist-packages/ipykernel/kernelbase.py\u001b[0m in \u001b[0;36mraw_input\u001b[0;34m(self, prompt)\u001b[0m\n\u001b[1;32m    858\u001b[0m                 \u001b[0;34m\"raw_input was called, but this frontend does not support input requests.\"\u001b[0m\u001b[0;34m\u001b[0m\u001b[0;34m\u001b[0m\u001b[0m\n\u001b[1;32m    859\u001b[0m             )\n\u001b[0;32m--> 860\u001b[0;31m         return self._input_request(str(prompt),\n\u001b[0m\u001b[1;32m    861\u001b[0m             \u001b[0mself\u001b[0m\u001b[0;34m.\u001b[0m\u001b[0m_parent_ident\u001b[0m\u001b[0;34m,\u001b[0m\u001b[0;34m\u001b[0m\u001b[0;34m\u001b[0m\u001b[0m\n\u001b[1;32m    862\u001b[0m             \u001b[0mself\u001b[0m\u001b[0;34m.\u001b[0m\u001b[0m_parent_header\u001b[0m\u001b[0;34m,\u001b[0m\u001b[0;34m\u001b[0m\u001b[0;34m\u001b[0m\u001b[0m\n",
            "\u001b[0;32m/usr/local/lib/python3.8/dist-packages/ipykernel/kernelbase.py\u001b[0m in \u001b[0;36m_input_request\u001b[0;34m(self, prompt, ident, parent, password)\u001b[0m\n\u001b[1;32m    902\u001b[0m             \u001b[0;32mexcept\u001b[0m \u001b[0mKeyboardInterrupt\u001b[0m\u001b[0;34m:\u001b[0m\u001b[0;34m\u001b[0m\u001b[0;34m\u001b[0m\u001b[0m\n\u001b[1;32m    903\u001b[0m                 \u001b[0;31m# re-raise KeyboardInterrupt, to truncate traceback\u001b[0m\u001b[0;34m\u001b[0m\u001b[0;34m\u001b[0m\u001b[0;34m\u001b[0m\u001b[0m\n\u001b[0;32m--> 904\u001b[0;31m                 \u001b[0;32mraise\u001b[0m \u001b[0mKeyboardInterrupt\u001b[0m\u001b[0;34m(\u001b[0m\u001b[0;34m\"Interrupted by user\"\u001b[0m\u001b[0;34m)\u001b[0m \u001b[0;32mfrom\u001b[0m \u001b[0;32mNone\u001b[0m\u001b[0;34m\u001b[0m\u001b[0;34m\u001b[0m\u001b[0m\n\u001b[0m\u001b[1;32m    905\u001b[0m             \u001b[0;32mexcept\u001b[0m \u001b[0mException\u001b[0m \u001b[0;32mas\u001b[0m \u001b[0me\u001b[0m\u001b[0;34m:\u001b[0m\u001b[0;34m\u001b[0m\u001b[0;34m\u001b[0m\u001b[0m\n\u001b[1;32m    906\u001b[0m                 \u001b[0mself\u001b[0m\u001b[0;34m.\u001b[0m\u001b[0mlog\u001b[0m\u001b[0;34m.\u001b[0m\u001b[0mwarning\u001b[0m\u001b[0;34m(\u001b[0m\u001b[0;34m\"Invalid Message:\"\u001b[0m\u001b[0;34m,\u001b[0m \u001b[0mexc_info\u001b[0m\u001b[0;34m=\u001b[0m\u001b[0;32mTrue\u001b[0m\u001b[0;34m)\u001b[0m\u001b[0;34m\u001b[0m\u001b[0;34m\u001b[0m\u001b[0m\n",
            "\u001b[0;31mKeyboardInterrupt\u001b[0m: Interrupted by user"
          ]
        }
      ]
    },
    {
      "cell_type": "code",
      "source": [
        "#18\n",
        "a1,b1,c1=map(int,input(\"번호, 중간 점수, 기말 점수를 입력하시오:\").split())\n",
        "a2,b2,c2=map(int,input(\"번호, 중간 점수, 기말 점수를 입력하시오:\").split())\n",
        "a3,b3,c3=map(int,input(\"번호, 중간 점수, 기말 점수를 입력하시오:\").split())\n",
        "a4,b4,c4=map(int,input(\"번호, 중간 점수, 기말 점수를 입력하시오:\").split())\n",
        "a5,b5,c5=map(int,input(\"번호, 중간 점수, 기말 점수를 입력하시오:\").split())\n",
        "score1=(b1+c1)\n",
        "score2=(b2+c2)\n",
        "score3=(b3+c3)\n",
        "score4=(b4+c4)\n",
        "score5=(b5+c5)\n",
        "mean1=(b1+c1)/2\n",
        "mean2=(b2+c2)/2\n",
        "mean3=(b3+c3)/2\n",
        "mean4=(b4+c4)/2\n",
        "mean5=(b5+c5)/2\n",
        "mean1!=mean2!=mean3!=mean4!=mean5\n",
        "if 90<=c1<=100:\n",
        "  print(a1,\"번 학생 총점은\",score1,\"평균점수는\",mean1, \"이고 A학점 입니다.\")\n",
        "elif 80<=c1<90:\n",
        "  print(a1,\"번 학생 총점은\",score1,\"평균점수는\",mean1, \"이고 B학점 입니다.\")\n",
        "elif 60<=c1<80:\n",
        "  print(a1,\"번 학생 총점은\",score1,\"평균점수는\",mean1, \"이고 C학점 입니다.\")\n",
        "elif 0<=c1<60:\n",
        "  print(a1,\"번 학생 총점은\",score1,\"평균점수는\",mean1, \"이고 F학점 입니다.\")\n",
        "if 90<=c2<=100:\n",
        "  print(a2,\"번 학생 총점은\",score2,\"평균점수는\",mean2, \"이고 A학점 입니다.\")\n",
        "elif 80<=c2<90:\n",
        "  print(a2,\"번 학생 총점은\",score2,\"평균점수는\",mean2, \"이고 B학점 입니다.\")\n",
        "elif 60<=c2<80:\n",
        "  print(a2,\"번 학생 총점은\",score2,\"평균점수는\",mean2, \"이고 C학점 입니다.\")\n",
        "elif 0<=c2<60:\n",
        "  print(a2,\"번 학생 총점은\",score2,\"평균점수는\",mean2, \"이고 F학점 입니다.\")\n",
        "if 90<=c3<=100:\n",
        "  print(a3,\"번 학생 총점은\",score3,\"평균점수는\",mean3, \"이고 A학점 입니다.\")\n",
        "elif 80<=c3<90:\n",
        "  print(a3,\"번 학생 총점은\",score3,\"평균점수는\",mean3, \"이고 B학점 입니다.\")\n",
        "elif 60<=c3<80:\n",
        "  print(a3,\"번 학생 총점은\",score3,\"평균점수는\",mean3, \"이고 C학점 입니다.\")\n",
        "elif 0<=c3<60:\n",
        "  print(a3,\"번 학생 총점은\",score3,\"평균점수는\",mean3, \"이고 F학점 입니다.\")\n",
        "if 90<=c4<=100:\n",
        "  print(a4,\"번 학생 총점은\",score3,\"평균점수는\",mean3, \"이고 A학점 입니다.\")\n",
        "elif 80<=c4<90:\n",
        "  print(a4,\"번 학생 총점은\",score3,\"평균점수는\",mean3, \"이고 B학점 입니다.\")\n",
        "elif 60<=c4<80:\n",
        "  print(a4,\"번 학생 총점은\",score3,\"평균점수는\",mean3, \"이고 C학점 입니다.\")\n",
        "elif 0<=c4<60:\n",
        "  print(a4,\"번 학생 총점은\",score3,\"평균점수는\",mean3, \"이고 F학점 입니다.\")\n",
        "if 90<=c5<=100:\n",
        "  print(a5,\"번 학생 총점은\",score4,\"평균점수는\",mean4, \"이고 A학점 입니다.\")\n",
        "elif 80<=c5<90:\n",
        "  print(a5,\"번 학생 총점은\",score4,\"평균점수는\",mean4, \"이고 B학점 입니다.\")\n",
        "elif 60<=c5<80:\n",
        "  print(a5,\"번 학생 총점은\",score4,\"평균점수는\",mean4, \"이고 C학점 입니다.\")\n",
        "elif 0<=c5<60:\n",
        "  print(a5,\"번 학생 총점은\",score4,\"평균점수는\",mean4, \"이고 F학점 입니다.\")\n",
        "else:\n",
        "  print(\"ERROR\")"
      ],
      "metadata": {
        "colab": {
          "base_uri": "https://localhost:8080/"
        },
        "id": "Ea3Gp3XjBqVM",
        "outputId": "b16faeae-4270-434e-b0ee-5fffbfc22f8f"
      },
      "execution_count": null,
      "outputs": [
        {
          "output_type": "stream",
          "name": "stdout",
          "text": [
            "번호, 중간 점수, 기말 점수를 입력하시오:1 20 30\n",
            "번호, 중간 점수, 기말 점수를 입력하시오:2 50 70\n",
            "번호, 중간 점수, 기말 점수를 입력하시오:3 80 98\n",
            "번호, 중간 점수, 기말 점수를 입력하시오:4 75 86\n",
            "번호, 중간 점수, 기말 점수를 입력하시오:5 90 89\n",
            "1 번 학생 총점은 50 평균점수는 25.0 이고 F학점 입니다.\n",
            "2 번 학생 총점은 120 평균점수는 60.0 이고 C학점 입니다.\n",
            "3 번 학생 총점은 178 평균점수는 89.0 이고 A학점 입니다.\n",
            "4 번 학생 총점은 178 평균점수는 89.0 이고 B학점 입니다.\n",
            "5 번 학생 총점은 161 평균점수는 80.5 이고 B학점 입니다.\n"
          ]
        }
      ]
    }
  ]
}